{
 "cells": [
  {
   "cell_type": "markdown",
   "id": "61524575",
   "metadata": {},
   "source": [
    "*Type hints:*\n",
    "\n",
    "Make which types variables are.\n",
    "\n",
    "Instead of doing this: age = 30\n",
    "\n",
    "Do this: age: int = 30"
   ]
  },
  {
   "cell_type": "markdown",
   "id": "addd90a9",
   "metadata": {},
   "source": [
    "*Lists and dicts*\n",
    "\n",
    "declaring:\n",
    "\n",
    "list = []\n",
    "dict = {}"
   ]
  },
  {
   "cell_type": "markdown",
   "id": "0dd64e7e",
   "metadata": {},
   "source": []
  },
  {
   "cell_type": "code",
   "execution_count": null,
   "id": "25a34e0c",
   "metadata": {},
   "outputs": [
    {
     "data": {
      "text/plain": [
       "{'a@gmail.com', 'b@gmail.com', 'c@gmail.com'}"
      ]
     },
     "execution_count": 11,
     "metadata": {},
     "output_type": "execute_result"
    }
   ],
   "source": [
    "#given a list of email addresses, remove the duplicated inside it\n",
    "\n",
    "emails_list = ['a@gmail.com', 'b@gmail.com', 'c@gmail.com', 'a@gmail.com']\n",
    "\n",
    "\n",
    "unique_emails = set(emails_list)\n",
    "\n",
    "unique_emails\n"
   ]
  },
  {
   "cell_type": "code",
   "execution_count": 12,
   "id": "be29b821",
   "metadata": {},
   "outputs": [
    {
     "data": {
      "text/plain": [
       "[19, 22, 40, 20]"
      ]
     },
     "execution_count": 12,
     "metadata": {},
     "output_type": "execute_result"
    }
   ],
   "source": [
    "#given a list of different ages, filter ages that are above or equal to 18\n",
    "\n",
    "ages = [11,12,19,22,40,20,1,17,16,8]\n",
    "\n",
    "ages_above_17 = [age for age in ages if age>=18]\n",
    "\n",
    "ages_above_17"
   ]
  },
  {
   "cell_type": "code",
   "execution_count": 20,
   "id": "557c3940",
   "metadata": {},
   "outputs": [
    {
     "name": "stdout",
     "output_type": "stream",
     "text": [
      "[{'name': 'Carol', 'age': 20}, {'name': 'Bob', 'age': 25}, {'name': 'Alice', 'age': 30}]\n"
     ]
    }
   ],
   "source": [
    "#given a list of dicts that represents people's names, order the list by their names\n",
    "\n",
    "people = [\n",
    "    {\"name\": \"Alice\", \"age\": 30},\n",
    "    {\"name\": \"Bob\", \"age\": 25},\n",
    "    {\"name\": \"Carol\", \"age\": 20}\n",
    "]\n",
    "\n",
    "people.sort(key=lambda x: x[\"age\"])\n",
    "print(people)"
   ]
  },
  {
   "cell_type": "code",
   "execution_count": 26,
   "id": "6de140b3",
   "metadata": {},
   "outputs": [
    {
     "data": {
      "text/plain": [
       "30.0"
      ]
     },
     "execution_count": 26,
     "metadata": {},
     "output_type": "execute_result"
    }
   ],
   "source": [
    "#given a list of numbers, calculate its average\n",
    "\n",
    "num_list = [10, 20, 30, 40, 50]\n",
    "\n",
    "list_len = len(num_list)\n",
    "list_sum = sum(num_list)\n",
    "\n",
    "list_avg = list_sum / list_len\n",
    "\n",
    "list_avg\n"
   ]
  },
  {
   "cell_type": "code",
   "execution_count": 34,
   "id": "a4cc0796",
   "metadata": {},
   "outputs": [
    {
     "name": "stdout",
     "output_type": "stream",
     "text": [
      "Even numbers: [2, 4, 6, 8, 10] \n",
      " Odd numbers: [1, 3, 5, 7, 9]\n"
     ]
    }
   ],
   "source": [
    "#given a list of numbers, create 2 separate list for even and odd numbers\n",
    "\n",
    "numbers = [1, 2, 3, 4, 5, 6, 7, 8, 9, 10]\n",
    "even_list = []\n",
    "odd_list = []\n",
    "for n in numbers:\n",
    "    if n % 2 == 0:\n",
    "        even_list.append(n)\n",
    "    else:\n",
    "        odd_list.append(n)\n",
    "\n",
    "print(f'Even numbers: {even_list} \\n Odd numbers: {odd_list}')"
   ]
  },
  {
   "cell_type": "code",
   "execution_count": null,
   "id": "6d8820dd",
   "metadata": {},
   "outputs": [],
   "source": []
  }
 ],
 "metadata": {
  "kernelspec": {
   "display_name": ".venv",
   "language": "python",
   "name": "python3"
  },
  "language_info": {
   "codemirror_mode": {
    "name": "ipython",
    "version": 3
   },
   "file_extension": ".py",
   "mimetype": "text/x-python",
   "name": "python",
   "nbconvert_exporter": "python",
   "pygments_lexer": "ipython3",
   "version": "3.12.10"
  }
 },
 "nbformat": 4,
 "nbformat_minor": 5
}
